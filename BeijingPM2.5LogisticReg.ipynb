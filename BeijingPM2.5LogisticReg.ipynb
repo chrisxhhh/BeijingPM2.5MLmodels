{
 "cells": [
  {
   "cell_type": "markdown",
   "source": [
    "# Multiple Logistic regression model of Beijing PM2.5"
   ],
   "metadata": {
    "collapsed": false
   }
  },
  {
   "cell_type": "markdown",
   "source": [
    "Machine Learning <br>\n",
    "Chris Xu <br>\n",
    "Data Source: https://archive.ics.uci.edu/ml/datasets/Beijing+PM2.5+Data"
   ],
   "metadata": {
    "collapsed": false
   }
  },
  {
   "cell_type": "markdown",
   "source": [
    "import:"
   ],
   "metadata": {
    "collapsed": false
   }
  },
  {
   "cell_type": "code",
   "execution_count": 1,
   "outputs": [],
   "source": [
    "import numpy as np\n",
    "import pandas as pd\n",
    "import matplotlib\n",
    "from matplotlib import pyplot as plt\n",
    "from sklearn import preprocessing\n",
    "from sklearn.model_selection import train_test_split\n",
    "from sklearn.linear_model import LogisticRegression\n",
    "from sklearn.metrics import classification_report, confusion_matrix\n",
    "import numpy.polynomial.polynomial as poly\n",
    "%matplotlib inline"
   ],
   "metadata": {
    "collapsed": false,
    "pycharm": {
     "name": "#%%\n"
    }
   }
  },
  {
   "cell_type": "markdown",
   "source": [
    "Data Analysis and Preprocessing"
   ],
   "metadata": {
    "collapsed": false
   }
  },
  {
   "cell_type": "code",
   "execution_count": 2,
   "outputs": [
    {
     "name": "stdout",
     "output_type": "stream",
     "text": [
      "    No  year  month  day  hour  pm2.5  DEWP  TEMP    PRES cbwd   Iws  Is  Ir\n",
      "24  25  2010      1    2     0  129.0   -16  -4.0  1020.0   SE  1.79   0   0\n",
      "25  26  2010      1    2     1  148.0   -15  -4.0  1020.0   SE  2.68   0   0\n",
      "26  27  2010      1    2     2  159.0   -11  -5.0  1021.0   SE  3.57   0   0\n",
      "27  28  2010      1    2     3  181.0    -7  -5.0  1022.0   SE  5.36   1   0\n",
      "28  29  2010      1    2     4  138.0    -7  -5.0  1022.0   SE  6.25   2   0\n",
      "29  30  2010      1    2     5  109.0    -7  -6.0  1022.0   SE  7.14   3   0\n",
      "          No  year  month  day  hour  pm2.5  DEWP  TEMP    PRES cbwd    Iws  \\\n",
      "39877  39878  2014      7   20    13   67.0    24  34.0  1004.0   SE  25.93   \n",
      "11222  11223  2011      4   13    14  131.0     6  24.0  1010.0   SE  12.07   \n",
      "15504  15505  2011     10    9     0  351.0    14  15.0  1017.0   SE   1.78   \n",
      "21191  21192  2012      6    1    23  151.0    17  18.0  1012.0   SE   4.47   \n",
      "25659  25660  2012     12    5     3   13.0   -16  -3.0  1022.0   NW   4.02   \n",
      "32256  32257  2013      9    6     0   62.0    14  18.0  1016.0   SE   0.89   \n",
      "\n",
      "       Is  Ir  \n",
      "39877   0   0  \n",
      "11222   0   0  \n",
      "15504   0   0  \n",
      "21191   0   0  \n",
      "25659   0   0  \n",
      "32256   0   0  \n"
     ]
    }
   ],
   "source": [
    "#names = ['NO.', 'year', 'month', 'day', 'hour', 'pm2.5', 'DEWP',\n",
    "# 'TEMP', 'PRES', 'cbwd', 'Iws', 'Is', 'Ir']\n",
    "df = pd.read_csv(\n",
    "    'https://archive.ics.uci.edu/ml/machine-learning-databases/00381/PRSA_data_2010.1.1-2014.12.31.csv')\n",
    "# out of 43824 samples, there are 2067 missing pm2.5 values\n",
    "df = df.dropna()\n",
    "print(df.head(6))\n",
    "# shuffle the data\n",
    "df = df.sample(frac=1)\n",
    "print(df.head(6))"
   ],
   "metadata": {
    "collapsed": false,
    "pycharm": {
     "name": "#%%\n"
    }
   }
  },
  {
   "cell_type": "code",
   "execution_count": 3,
   "outputs": [
    {
     "name": "stdout",
     "output_type": "stream",
     "text": [
      "          No  year  month  day  hour  pm2.5  DEWP  TEMP    PRES cbwd     Iws  \\\n",
      "34236  34237  2013     11   27    12   13.0   -29   0.0  1027.0   NW  231.10   \n",
      "37236  37237  2014      4    1    12  121.0     3  21.0  1013.0   cv    3.57   \n",
      "1884    1885  2010      3   20    12  156.0   -10   8.0  1010.0   NW   84.95   \n",
      "2700    2701  2010      4   23    12   19.0   -10  19.0  1021.0   NW    7.15   \n",
      "36660  36661  2014      3    8    12  205.0    -6   6.0  1023.0   cv    4.47   \n",
      "3204    3205  2010      5   14    12  147.0     9  21.0  1015.0   SE   22.36   \n",
      "\n",
      "       Is  Ir  \n",
      "34236   0   0  \n",
      "37236   0   0  \n",
      "1884    0   0  \n",
      "2700    0   0  \n",
      "36660   0   0  \n",
      "3204    0   0  \n",
      "(1731,)\n",
      "(1731,)\n",
      "[[   0.   1027.    231.1 ]\n",
      " [  21.   1013.      3.57]\n",
      " [   8.   1010.     84.95]\n",
      " ...\n",
      " [   7.   1019.      5.37]\n",
      " [  26.   1004.      9.84]\n",
      " [  29.   1011.      7.6 ]]\n",
      "there are 4 kinds of wind derections: ['NW', 'cv', 'SE', 'NE']\n",
      "appearance of each directions are {'cv': 461, 'NE': 191, 'NW': 538, 'SE': 541}\n"
     ]
    }
   ],
   "source": [
    "#only take one sample a day in order to get rid of repeated data\n",
    "df1 = df[df.hour == 12]\n",
    "print(df1.head(6))\n",
    "y = np.array(df1['cbwd'])\n",
    "x = np.array(df1[['TEMP','PRES', 'Iws']])\n",
    "\n",
    "print(y.shape)\n",
    "n = y.shape[0]\n",
    "#y = y.reshape(n,1)\n",
    "print(y.shape)\n",
    "\n",
    "print(x)\n",
    "df.isnull().sum()\n",
    "wind_direction = []\n",
    "wind_direction_appear = {\n",
    "    \"cv\" : 0,\n",
    "    \"NE\" : 0,\n",
    "    \"NW\" : 0,\n",
    "    \"SE\" : 0,\n",
    "}\n",
    "for i in range(y.shape[0]):\n",
    "    if y[i] not in wind_direction:\n",
    "        wind_direction.append(y[i])\n",
    "    wind_direction_appear[y[i]] += 1\n",
    "print(\"there are {} kinds of wind derections: {}\".format(len(wind_direction), wind_direction))\n",
    "print(\"appearance of each directions are {}\".format(wind_direction_appear))"
   ],
   "metadata": {
    "collapsed": false,
    "pycharm": {
     "name": "#%%\n"
    }
   }
  },
  {
   "cell_type": "markdown",
   "source": [
    "Next, I want to predict the wind directions, north or south, with this dataset\n",
    "using logistic regression <br>\n",
    "\n",
    "Replace \"cv\", \"SE\" to 0 and \"NE\", \"NW\" to 1"
   ],
   "metadata": {
    "collapsed": false,
    "pycharm": {
     "name": "#%% md\n"
    }
   }
  },
  {
   "cell_type": "code",
   "execution_count": 4,
   "outputs": [
    {
     "name": "stdout",
     "output_type": "stream",
     "text": [
      "[1 0 1 1 0 0 1 0 0 0]\n"
     ]
    }
   ],
   "source": [
    "for i in range(y.shape[0]):\n",
    "    if y[i] == 'cv' or y[i] == 'SE':\n",
    "        y[i] = 0\n",
    "    elif y[i] == 'NE' or y[i] == 'NW':\n",
    "        y[i] = 1\n",
    "print(y[0:10])"
   ],
   "metadata": {
    "collapsed": false,
    "pycharm": {
     "name": "#%%\n"
    }
   }
  },
  {
   "cell_type": "markdown",
   "source": [
    "logistic regression"
   ],
   "metadata": {
    "collapsed": false,
    "pycharm": {
     "name": "#%% md\n"
    }
   }
  },
  {
   "cell_type": "code",
   "execution_count": 5,
   "outputs": [
    {
     "name": "stdout",
     "output_type": "stream",
     "text": [
      "(1298, 3)\n",
      "(1298, 1)\n",
      "[[-1.78742436  2.17653794  0.47685174]\n",
      " [ 1.10514804 -1.63255862 -0.42419518]\n",
      " [-0.85159211  1.00450823 -0.40588623]\n",
      " ...\n",
      " [-1.95757567  2.66488365 -0.37811424]\n",
      " [ 0.67976975 -0.94887462  0.05410027]\n",
      " [ 0.08424014 -1.33955119 -0.27690075]]\n"
     ]
    }
   ],
   "source": [
    "x_scale = preprocessing.scale(x)\n",
    "x_train, x_test, y_train, y_test = train_test_split(x_scale, y, test_size = 0.25)\n",
    "y_train = y_train.reshape((y_train.shape[0]), 1)\n",
    "y_train=y_train.astype('int')\n",
    "y_test=y_test.astype('int')\n",
    "print(x_train.shape)\n",
    "print(y_train.shape)\n",
    "print(x_train)"
   ],
   "metadata": {
    "collapsed": false,
    "pycharm": {
     "name": "#%%\n"
    }
   }
  },
  {
   "cell_type": "code",
   "execution_count": 6,
   "outputs": [
    {
     "name": "stdout",
     "output_type": "stream",
     "text": [
      "The intercept w0 =  [-0.09344046]\n",
      "The coefficients w[1..d]= [[-0.29318875  0.1851941   1.778448  ]]\n",
      "[1 0 1 1 0 1 0 1 1 0 1 0 0 1 0 0 1 0 0 0 0 0 0 0 0 1 1 0 0 0 0 1 0 0 0 0 0\n",
      " 0 0 0 1 0 1 0 1 0 0 1 0 0 0 1 0 0 0 0 0 1 1 1 0 1 1 0 0 0 1 0 0 0 0 0 0 0\n",
      " 0 1 0 0 1 0 0 1 0 0 0 0 0 1 0 0 0 0 1 0 0 0 0 0 0 0 1 0 0 1 1 0 0 1 0 0 0\n",
      " 0 1 0 0 0 0 0 0 1 0 0 0 1 0 0 0 0 0 1 0 0 0 0 1 1 0 0 1 0 0 0 0 1 0 0 0 0\n",
      " 0 1 0 0 1 0 0 1 0 0 0 0 1 1 0 0 0 0 0 0 0 0 1 1 0 0 0 0 0 0 0 0 0 0 0 0 1\n",
      " 0 0 0 0 0 0 1 0 0 0 1 0 1 0 0 0 1 0 0 0 0 0 0 0 0 0 0 0 0 1 0 0 0 0 0 0 0\n",
      " 0 1 0 0 0 0 0 0 0 0 0 0 0 1 1 0 0 0 0 1 0 0 0 0 0 0 0 0 0 0 0 0 1 0 1 0 0\n",
      " 0 0 1 0 0 1 0 0 0 1 0 1 0 0 1 0 0 0 0 1 0 0 0 0 1 0 0 0 1 0 1 0 0 0 0 0 0\n",
      " 1 0 0 1 0 0 1 0 0 0 0 0 0 0 0 0 0 0 0 0 0 0 0 0 0 1 1 0 1 0 0 1 0 0 0 1 0\n",
      " 0 0 1 0 0 1 0 0 1 0 0 1 0 1 0 1 0 0 0 0 0 1 0 0 1 0 0 0 1 0 0 0 0 0 0 1 0\n",
      " 0 1 0 1 0 0 0 1 0 1 0 0 0 1 1 1 0 0 0 0 0 0 0 1 1 1 0 1 1 0 0 0 0 1 0 0 0\n",
      " 0 0 0 0 0 0 0 1 1 1 0 0 0 0 0 0 1 1 0 0 0 0 0 0 0 0]\n"
     ]
    },
    {
     "name": "stderr",
     "output_type": "stream",
     "text": [
      "c:\\users\\chrix\\appdata\\local\\programs\\python\\python38-32\\lib\\site-packages\\sklearn\\utils\\validation.py:72: DataConversionWarning: A column-vector y was passed when a 1d array was expected. Please change the shape of y to (n_samples, ), for example using ravel().\n",
      "  return f(**kwargs)\n"
     ]
    }
   ],
   "source": [
    "regr = LogisticRegression(penalty='none', solver='sag')\n",
    "regr.fit(x_train, y_train)\n",
    "\n",
    "print('The intercept w0 = ', regr.intercept_)\n",
    "print('The coefficients w[1..d]=', regr.coef_)\n",
    "y_train_pred = regr.predict(x_train)\n",
    "y_test_pred = regr.predict(x_test)\n",
    "print(y_test_pred)"
   ],
   "metadata": {
    "collapsed": false,
    "pycharm": {
     "name": "#%%\n"
    }
   }
  },
  {
   "cell_type": "markdown",
   "source": [
    "result without regularization"
   ],
   "metadata": {
    "collapsed": false,
    "pycharm": {
     "name": "#%% md\n"
    }
   }
  },
  {
   "cell_type": "code",
   "execution_count": 7,
   "outputs": [
    {
     "name": "stdout",
     "output_type": "stream",
     "text": [
      "[[232  18]\n",
      " [ 97  86]]\n",
      "0.7344110854503464\n",
      "              precision    recall  f1-score   support\n",
      "\n",
      "           0       0.71      0.93      0.80       250\n",
      "           1       0.83      0.47      0.60       183\n",
      "\n",
      "    accuracy                           0.73       433\n",
      "   macro avg       0.77      0.70      0.70       433\n",
      "weighted avg       0.76      0.73      0.72       433\n",
      "\n"
     ]
    }
   ],
   "source": [
    "print(confusion_matrix(y_test, y_test_pred))\n",
    "print(regr.score(x_test,y_test))\n",
    "print(classification_report(y_test, y_test_pred))"
   ],
   "metadata": {
    "collapsed": false,
    "pycharm": {
     "name": "#%%\n"
    }
   }
  },
  {
   "cell_type": "markdown",
   "source": [
    "now try Ridge regularization"
   ],
   "metadata": {
    "collapsed": false,
    "pycharm": {
     "name": "#%% md\n"
    }
   }
  },
  {
   "cell_type": "code",
   "execution_count": 8,
   "outputs": [
    {
     "name": "stdout",
     "output_type": "stream",
     "text": [
      "The intercept w0 =  [-0.10543109]\n",
      "The coefficients w[1..d]= [[-0.29433847  0.1832596   1.72249577]]\n",
      "[1 0 1 1 0 1 0 1 1 0 1 0 0 1 0 0 1 0 0 0 0 0 0 0 0 1 1 0 0 0 0 0 0 0 0 0 0\n",
      " 0 0 0 1 0 1 0 1 0 0 1 0 0 0 1 0 0 0 0 0 1 1 1 0 1 1 0 0 0 1 0 0 0 0 0 0 0\n",
      " 0 1 0 0 1 0 0 1 0 0 0 0 0 1 0 0 0 0 1 0 0 0 0 0 0 0 1 0 0 1 1 0 0 1 0 0 0\n",
      " 0 1 0 0 0 0 0 0 1 0 0 0 1 0 0 0 0 0 1 0 0 0 0 1 1 0 0 1 0 0 0 0 1 0 0 0 0\n",
      " 0 1 0 0 1 0 0 1 0 0 0 0 1 1 0 0 0 0 0 0 0 0 1 1 0 0 0 0 0 0 0 0 0 0 0 1 1\n",
      " 0 0 0 0 0 0 1 0 0 0 1 0 1 0 0 0 1 0 0 0 0 0 0 0 0 0 0 0 0 1 0 0 0 0 0 0 0\n",
      " 0 1 0 0 0 0 0 0 0 0 0 0 0 1 1 0 0 0 0 1 0 0 0 0 0 0 0 0 0 0 0 0 1 0 1 0 0\n",
      " 0 0 1 0 0 1 0 0 0 1 0 1 0 0 1 0 0 0 0 1 0 0 0 0 1 0 0 0 1 0 1 0 0 0 0 0 0\n",
      " 1 0 0 1 0 0 1 0 0 0 0 0 0 0 0 0 0 0 0 0 0 0 0 0 0 1 1 0 1 0 0 1 0 0 0 1 0\n",
      " 0 0 1 0 0 1 0 0 1 0 0 1 0 1 0 1 0 0 0 0 0 1 0 0 1 0 0 0 1 0 0 0 0 0 0 1 0\n",
      " 0 1 0 1 0 0 0 1 0 1 0 0 0 1 1 1 0 0 0 0 0 0 0 1 1 1 0 1 1 0 0 0 0 1 0 0 0\n",
      " 0 0 0 0 0 0 0 1 1 1 0 0 0 0 0 0 1 1 0 0 0 0 0 0 0 0]\n"
     ]
    },
    {
     "name": "stderr",
     "output_type": "stream",
     "text": [
      "c:\\users\\chrix\\appdata\\local\\programs\\python\\python38-32\\lib\\site-packages\\sklearn\\utils\\validation.py:72: DataConversionWarning: A column-vector y was passed when a 1d array was expected. Please change the shape of y to (n_samples, ), for example using ravel().\n",
      "  return f(**kwargs)\n"
     ]
    }
   ],
   "source": [
    "regr = LogisticRegression(penalty='l2', solver='sag')\n",
    "regr.fit(x_train, y_train)\n",
    "\n",
    "print('The intercept w0 = ', regr.intercept_)\n",
    "print('The coefficients w[1..d]=', regr.coef_)\n",
    "y_train_pred = regr.predict(x_train)\n",
    "y_test_pred = regr.predict(x_test)\n",
    "print(y_test_pred)"
   ],
   "metadata": {
    "collapsed": false,
    "pycharm": {
     "name": "#%%\n"
    }
   }
  },
  {
   "cell_type": "markdown",
   "source": [
    "result with l2 regularization"
   ],
   "metadata": {
    "collapsed": false
   }
  },
  {
   "cell_type": "code",
   "execution_count": 9,
   "outputs": [
    {
     "name": "stdout",
     "output_type": "stream",
     "text": [
      "[[231  19]\n",
      " [ 98  85]]\n",
      "0.7297921478060047\n",
      "              precision    recall  f1-score   support\n",
      "\n",
      "           0       0.70      0.92      0.80       250\n",
      "           1       0.82      0.46      0.59       183\n",
      "\n",
      "    accuracy                           0.73       433\n",
      "   macro avg       0.76      0.69      0.70       433\n",
      "weighted avg       0.75      0.73      0.71       433\n",
      "\n"
     ]
    }
   ],
   "source": [
    "print(confusion_matrix(y_test, y_test_pred))\n",
    "print(regr.score(x_test,y_test))\n",
    "print(classification_report(y_test, y_test_pred))\n"
   ],
   "metadata": {
    "collapsed": false,
    "pycharm": {
     "name": "#%%\n"
    }
   }
  },
  {
   "cell_type": "markdown",
   "source": [
    "now try Lasso regularization <br>\n",
    "used lbfgs solver for the previous model, switch to saga next because\n",
    "lbfgs does not support l1"
   ],
   "metadata": {
    "collapsed": false
   }
  },
  {
   "cell_type": "code",
   "execution_count": 10,
   "outputs": [
    {
     "name": "stdout",
     "output_type": "stream",
     "text": [
      "The intercept w0 =  [-0.10032983]\n",
      "The coefficients w[1..d]= [[-0.29256139  0.18126728  1.74597664]]\n",
      "[1 0 1 1 0 1 0 1 1 0 1 0 0 1 0 0 1 0 0 0 0 0 0 0 0 1 1 0 0 0 0 1 0 0 0 0 0\n",
      " 0 0 0 1 0 1 0 1 0 0 1 0 0 0 1 0 0 0 0 0 1 1 1 0 1 1 0 0 0 1 0 0 0 0 0 0 0\n",
      " 0 1 0 0 1 0 0 1 0 0 0 0 0 1 0 0 0 0 1 0 0 0 0 0 0 0 1 0 0 1 1 0 0 1 0 0 0\n",
      " 0 1 0 0 0 0 0 0 1 0 0 0 1 0 0 0 0 0 1 0 0 0 0 1 1 0 0 1 0 0 0 0 1 0 0 0 0\n",
      " 0 1 0 0 1 0 0 1 0 0 0 0 1 1 0 0 0 0 0 0 0 0 1 1 0 0 0 0 0 0 0 0 0 0 0 0 1\n",
      " 0 0 0 0 0 0 1 0 0 0 1 0 1 0 0 0 1 0 0 0 0 0 0 0 0 0 0 0 0 1 0 0 0 0 0 0 0\n",
      " 0 1 0 0 0 0 0 0 0 0 0 0 0 1 1 0 0 0 0 1 0 0 0 0 0 0 0 0 0 0 0 0 1 0 1 0 0\n",
      " 0 0 1 0 0 1 0 0 0 1 0 1 0 0 1 0 0 0 0 1 0 0 0 0 1 0 0 0 1 0 1 0 0 0 0 0 0\n",
      " 1 0 0 1 0 0 1 0 0 0 0 0 0 0 0 0 0 0 0 0 0 0 0 0 0 1 1 0 1 0 0 1 0 0 0 1 0\n",
      " 0 0 1 0 0 1 0 0 1 0 0 1 0 1 0 1 0 0 0 0 0 1 0 0 1 0 0 0 1 0 0 0 0 0 0 1 0\n",
      " 0 1 0 1 0 0 0 1 0 1 0 0 0 1 1 1 0 0 0 0 0 0 0 1 1 1 0 1 1 0 0 0 0 1 0 0 0\n",
      " 0 0 0 0 0 0 0 1 1 1 0 0 0 0 0 0 1 1 0 0 0 0 0 0 0 0]\n"
     ]
    },
    {
     "name": "stderr",
     "output_type": "stream",
     "text": [
      "c:\\users\\chrix\\appdata\\local\\programs\\python\\python38-32\\lib\\site-packages\\sklearn\\utils\\validation.py:72: DataConversionWarning: A column-vector y was passed when a 1d array was expected. Please change the shape of y to (n_samples, ), for example using ravel().\n",
      "  return f(**kwargs)\n"
     ]
    }
   ],
   "source": [
    "regr = LogisticRegression(penalty='l1', solver='saga')\n",
    "regr.fit(x_train, y_train)\n",
    "\n",
    "print('The intercept w0 = ', regr.intercept_)\n",
    "print('The coefficients w[1..d]=', regr.coef_)\n",
    "y_train_pred = regr.predict(x_train)\n",
    "y_test_pred = regr.predict(x_test)\n",
    "print(y_test_pred)"
   ],
   "metadata": {
    "collapsed": false,
    "pycharm": {
     "name": "#%%\n"
    }
   }
  },
  {
   "cell_type": "markdown",
   "source": [
    "result with l2 regularization"
   ],
   "metadata": {
    "collapsed": false
   }
  },
  {
   "cell_type": "code",
   "execution_count": 11,
   "outputs": [
    {
     "name": "stdout",
     "output_type": "stream",
     "text": [
      "[[232  18]\n",
      " [ 97  86]]\n",
      "0.7344110854503464\n",
      "              precision    recall  f1-score   support\n",
      "\n",
      "           0       0.71      0.93      0.80       250\n",
      "           1       0.83      0.47      0.60       183\n",
      "\n",
      "    accuracy                           0.73       433\n",
      "   macro avg       0.77      0.70      0.70       433\n",
      "weighted avg       0.76      0.73      0.72       433\n",
      "\n"
     ]
    }
   ],
   "source": [
    "print(confusion_matrix(y_test, y_test_pred))\n",
    "print(regr.score(x_test,y_test))\n",
    "   print(classification_report(y_test, y_test_pred))"
   ],
   "metadata": {
    "collapsed": false,
    "pycharm": {
     "name": "#%%\n"
    }
   }
  }
 ],
 "metadata": {
  "kernelspec": {
   "display_name": "Python 3",
   "language": "python",
   "name": "python3"
  },
  "language_info": {
   "codemirror_mode": {
    "name": "ipython",
    "version": 2
   },
   "file_extension": ".py",
   "mimetype": "text/x-python",
   "name": "python",
   "nbconvert_exporter": "python",
   "pygments_lexer": "ipython2",
   "version": "2.7.6"
  }
 },
 "nbformat": 4,
 "nbformat_minor": 0
}